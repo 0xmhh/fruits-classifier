{
  "nbformat": 4,
  "nbformat_minor": 0,
  "metadata": {
    "colab": {
      "name": "fruits-360.ipynb",
      "provenance": [],
      "collapsed_sections": [],
      "machine_shape": "hm"
    },
    "kernelspec": {
      "name": "python3",
      "display_name": "Python 3"
    },
    "accelerator": "GPU"
  },
  "cells": [
    {
      "cell_type": "code",
      "metadata": {
        "id": "8S-4LlIZmQKd",
        "colab_type": "code",
        "colab": {
          "base_uri": "https://localhost:8080/",
          "height": 51
        },
        "outputId": "fa3964be-0bae-4662-a235-d2d08a95c097"
      },
      "source": [
        "import torch\n",
        "import torch.nn as nn\n",
        "import torch.nn.functional as F\n",
        "from torch.utils.data import DataLoader\n",
        "from torchvision import datasets, transforms,models\n",
        "import torchvision\n",
        "from torchvision.utils import make_grid\n",
        "from torch.utils.tensorboard import SummaryWriter\n",
        "from IPython.display import display, clear_output\n",
        "\n",
        "import time\n",
        "import json\n",
        "import numpy as np\n",
        "import seaborn as sns\n",
        "import pandas as pd\n",
        "#from sklearn.metrics import confusion_matrix\n",
        "import matplotlib.pyplot as plt\n",
        "import os\n",
        "%matplotlib inline\n",
        "from sklearn.metrics import confusion_matrix\n",
        "\n",
        "from itertools import product\n",
        "from collections import namedtuple\n",
        "from collections import OrderedDict\n",
        "\n",
        "CUDA = torch.cuda.is_available()"
      ],
      "execution_count": 1,
      "outputs": [
        {
          "output_type": "stream",
          "text": [
            "/usr/local/lib/python3.6/dist-packages/statsmodels/tools/_testing.py:19: FutureWarning: pandas.util.testing is deprecated. Use the functions in the public API at pandas.testing instead.\n",
            "  import pandas.util.testing as tm\n"
          ],
          "name": "stderr"
        }
      ]
    },
    {
      "cell_type": "code",
      "metadata": {
        "id": "R5K1dERsGTKO",
        "colab_type": "code",
        "colab": {
          "base_uri": "https://localhost:8080/",
          "height": 35
        },
        "outputId": "ba5c9bc2-0a93-4e3d-c9c8-e38d43926747"
      },
      "source": [
        "torch.cuda.is_available()\n",
        "torch.cuda.current_device()\n",
        "torch.cuda.get_device_name(0)"
      ],
      "execution_count": 2,
      "outputs": [
        {
          "output_type": "execute_result",
          "data": {
            "application/vnd.google.colaboratory.intrinsic+json": {
              "type": "string"
            },
            "text/plain": [
              "'Tesla V100-SXM2-16GB'"
            ]
          },
          "metadata": {
            "tags": []
          },
          "execution_count": 2
        }
      ]
    },
    {
      "cell_type": "code",
      "metadata": {
        "id": "nVt4SCcHDsgW",
        "colab_type": "code",
        "colab": {}
      },
      "source": [
        "!unzip \"/content/drive/My Drive/archive.zip\""
      ],
      "execution_count": null,
      "outputs": []
    },
    {
      "cell_type": "code",
      "metadata": {
        "id": "69iGEbiRDwuV",
        "colab_type": "code",
        "colab": {}
      },
      "source": [
        "train_transform = transforms.Compose([\n",
        "    transforms.RandomHorizontalFlip(),\n",
        "    transforms.RandomRotation(degrees=45),\n",
        "    transforms.ToTensor(),\n",
        "    transforms.Normalize([0.6768, 0.5580, 0.4836],[0.3034, 0.3600, 0.3914]),\n",
        "\n",
        "])\n",
        "\n",
        "test_transform = transforms.Compose([\n",
        "    transforms.ToTensor(),\n",
        "    transforms.Normalize([0.6768, 0.5580, 0.4836],[0.3034, 0.3600, 0.3914]),\n",
        "])"
      ],
      "execution_count": null,
      "outputs": []
    },
    {
      "cell_type": "code",
      "metadata": {
        "id": "UIg3jmmQE9eG",
        "colab_type": "code",
        "colab": {}
      },
      "source": [
        "train_dataset = datasets.ImageFolder(\n",
        "    'fruits-360/Training',\n",
        "    transform=train_transform\n",
        ")\n",
        "\n",
        "test_dataset = datasets.ImageFolder(\n",
        "    'fruits-360/Test',\n",
        "    transform=test_transform\n",
        ")\n",
        "\n",
        "trainloader = DataLoader(train_dataset,shuffle=True,batch_size=128)\n",
        "testloader = DataLoader(test_dataset,shuffle=False,batch_size=128)"
      ],
      "execution_count": 5,
      "outputs": []
    },
    {
      "cell_type": "code",
      "metadata": {
        "id": "agxGTeVdLoiy",
        "colab_type": "code",
        "colab": {}
      },
      "source": [
        "# imgs = torch.stack([img for img, _ in train_dataset],dim=3)\n",
        "\n",
        "# print(imgs.view(3,-1).mean(dim=1))\n",
        "# print(imgs.view(3,-1).std(dim=1))"
      ],
      "execution_count": 6,
      "outputs": []
    },
    {
      "cell_type": "code",
      "metadata": {
        "id": "Ayt1wQz9FD5k",
        "colab_type": "code",
        "colab": {
          "base_uri": "https://localhost:8080/",
          "height": 51
        },
        "outputId": "eade7160-b04c-47fe-fdf6-8b9253fb4b1f"
      },
      "source": [
        "print(len(train_dataset))\n",
        "print(len(test_dataset))"
      ],
      "execution_count": 7,
      "outputs": [
        {
          "output_type": "stream",
          "text": [
            "67692\n",
            "22688\n"
          ],
          "name": "stdout"
        }
      ]
    },
    {
      "cell_type": "code",
      "metadata": {
        "id": "bMn4ARGLFGe8",
        "colab_type": "code",
        "colab": {
          "base_uri": "https://localhost:8080/",
          "height": 51
        },
        "outputId": "10cc6acb-acac-4692-85d3-c6b61dfb5e1c"
      },
      "source": [
        "inputs, classes = next(iter(trainloader))\n",
        "print(inputs.shape)\n",
        "\n",
        "class_names = dict((i, v) for i, v in enumerate(train_dataset.classes))\n",
        "print(len(class_names))"
      ],
      "execution_count": 8,
      "outputs": [
        {
          "output_type": "stream",
          "text": [
            "torch.Size([128, 3, 100, 100])\n",
            "131\n"
          ],
          "name": "stdout"
        }
      ]
    },
    {
      "cell_type": "code",
      "metadata": {
        "id": "YXqR32cYFRc1",
        "colab_type": "code",
        "colab": {
          "base_uri": "https://localhost:8080/",
          "height": 54
        },
        "outputId": "4955bf4b-159f-41d0-80a1-0153ce07b8d9"
      },
      "source": [
        "class_names = train_dataset.classes\n",
        "print(class_names)\n"
      ],
      "execution_count": 9,
      "outputs": [
        {
          "output_type": "stream",
          "text": [
            "['Apple Braeburn', 'Apple Crimson Snow', 'Apple Golden 1', 'Apple Golden 2', 'Apple Golden 3', 'Apple Granny Smith', 'Apple Pink Lady', 'Apple Red 1', 'Apple Red 2', 'Apple Red 3', 'Apple Red Delicious', 'Apple Red Yellow 1', 'Apple Red Yellow 2', 'Apricot', 'Avocado', 'Avocado ripe', 'Banana', 'Banana Lady Finger', 'Banana Red', 'Beetroot', 'Blueberry', 'Cactus fruit', 'Cantaloupe 1', 'Cantaloupe 2', 'Carambula', 'Cauliflower', 'Cherry 1', 'Cherry 2', 'Cherry Rainier', 'Cherry Wax Black', 'Cherry Wax Red', 'Cherry Wax Yellow', 'Chestnut', 'Clementine', 'Cocos', 'Corn', 'Corn Husk', 'Cucumber Ripe', 'Cucumber Ripe 2', 'Dates', 'Eggplant', 'Fig', 'Ginger Root', 'Granadilla', 'Grape Blue', 'Grape Pink', 'Grape White', 'Grape White 2', 'Grape White 3', 'Grape White 4', 'Grapefruit Pink', 'Grapefruit White', 'Guava', 'Hazelnut', 'Huckleberry', 'Kaki', 'Kiwi', 'Kohlrabi', 'Kumquats', 'Lemon', 'Lemon Meyer', 'Limes', 'Lychee', 'Mandarine', 'Mango', 'Mango Red', 'Mangostan', 'Maracuja', 'Melon Piel de Sapo', 'Mulberry', 'Nectarine', 'Nectarine Flat', 'Nut Forest', 'Nut Pecan', 'Onion Red', 'Onion Red Peeled', 'Onion White', 'Orange', 'Papaya', 'Passion Fruit', 'Peach', 'Peach 2', 'Peach Flat', 'Pear', 'Pear 2', 'Pear Abate', 'Pear Forelle', 'Pear Kaiser', 'Pear Monster', 'Pear Red', 'Pear Stone', 'Pear Williams', 'Pepino', 'Pepper Green', 'Pepper Orange', 'Pepper Red', 'Pepper Yellow', 'Physalis', 'Physalis with Husk', 'Pineapple', 'Pineapple Mini', 'Pitahaya Red', 'Plum', 'Plum 2', 'Plum 3', 'Pomegranate', 'Pomelo Sweetie', 'Potato Red', 'Potato Red Washed', 'Potato Sweet', 'Potato White', 'Quince', 'Rambutan', 'Raspberry', 'Redcurrant', 'Salak', 'Strawberry', 'Strawberry Wedge', 'Tamarillo', 'Tangelo', 'Tomato 1', 'Tomato 2', 'Tomato 3', 'Tomato 4', 'Tomato Cherry Red', 'Tomato Heart', 'Tomato Maroon', 'Tomato Yellow', 'Tomato not Ripened', 'Walnut', 'Watermelon']\n"
          ],
          "name": "stdout"
        }
      ]
    },
    {
      "cell_type": "code",
      "metadata": {
        "id": "mU8q6J09495X",
        "colab_type": "code",
        "colab": {
          "base_uri": "https://localhost:8080/",
          "height": 163
        },
        "outputId": "c7d1f212-0725-456f-e0b0-cb23c29f7ed9"
      },
      "source": [
        ""
      ],
      "execution_count": 10,
      "outputs": [
        {
          "output_type": "error",
          "ename": "AttributeError",
          "evalue": "ignored",
          "traceback": [
            "\u001b[0;31m---------------------------------------------------------------------------\u001b[0m",
            "\u001b[0;31mAttributeError\u001b[0m                            Traceback (most recent call last)",
            "\u001b[0;32m<ipython-input-10-36350f656adb>\u001b[0m in \u001b[0;36m<module>\u001b[0;34m()\u001b[0m\n\u001b[0;32m----> 1\u001b[0;31m \u001b[0mclass_names\u001b[0m\u001b[0;34m.\u001b[0m\u001b[0mreshape\u001b[0m\u001b[0;34m(\u001b[0m\u001b[0;34m-\u001b[0m\u001b[0;36m1\u001b[0m\u001b[0;34m,\u001b[0m\u001b[0;36m131\u001b[0m\u001b[0;34m)\u001b[0m\u001b[0;34m\u001b[0m\u001b[0;34m\u001b[0m\u001b[0m\n\u001b[0m",
            "\u001b[0;31mAttributeError\u001b[0m: 'list' object has no attribute 'reshape'"
          ]
        }
      ]
    },
    {
      "cell_type": "code",
      "metadata": {
        "id": "3K3ltVZx49bl",
        "colab_type": "code",
        "colab": {}
      },
      "source": [
        ""
      ],
      "execution_count": null,
      "outputs": []
    },
    {
      "cell_type": "code",
      "metadata": {
        "id": "jErtR3clFSnF",
        "colab_type": "code",
        "colab": {
          "base_uri": "https://localhost:8080/",
          "height": 303
        },
        "outputId": "fde668f6-071c-474f-874e-e7690c604adb"
      },
      "source": [
        "for images, labels in trainloader:\n",
        "    break\n",
        "\n",
        "im = make_grid(images,nrow=5)\n",
        "\n",
        "inv_normalize = transforms.Normalize(\n",
        "    mean=[-0.6768/0.3034, -0.5580/0.3600, -0.4836/0.3914],\n",
        "    std = [1/0.3034,1/0.3600,1/0.3914]\n",
        ")\n",
        "\n",
        "im_inv = inv_normalize(im)\n",
        "\n",
        "plt.figure(figsize=(12,4))\n",
        "plt.imshow(np.transpose(im_inv.numpy(), (1,2,0)))"
      ],
      "execution_count": 12,
      "outputs": [
        {
          "output_type": "stream",
          "text": [
            "Clipping input data to the valid range for imshow with RGB data ([0..1] for floats or [0..255] for integers).\n"
          ],
          "name": "stderr"
        },
        {
          "output_type": "execute_result",
          "data": {
            "text/plain": [
              "<matplotlib.image.AxesImage at 0x7fbe5924ceb8>"
            ]
          },
          "metadata": {
            "tags": []
          },
          "execution_count": 12
        },
        {
          "output_type": "display_data",
          "data": {
            "image/png": "[encoded data removed]",
            "text/plain": [
              "<Figure size 864x288 with 1 Axes>"
            ]
          },
          "metadata": {
            "tags": [],
            "needs_background": "light"
          }
        }
      ]
    },
    {
      "cell_type": "code",
      "metadata": {
        "id": "hiOipgVVFVXL",
        "colab_type": "code",
        "colab": {}
      },
      "source": [
        "class CNN(nn.Module):\n",
        "    def __init__(self):\n",
        "        super(CNN,self).__init__()\n",
        "        self.conv1 = nn.Conv2d(3,6,3,1)\n",
        "        self.conv2 = nn.Conv2d(6,16,3,1)\n",
        "        \n",
        "        self.fc1 = nn.Linear(23*23*16,1024)\n",
        "        self.fc2 = nn.Linear(1024,256)\n",
        "        self.fc3 = nn.Linear(256,131)\n",
        "        \n",
        "\n",
        "    def forward(self,X):\n",
        "        X = F.relu(self.conv1(X))\n",
        "        X = F.max_pool2d(X,2,2)\n",
        "        X = F.relu(self.conv2(X))\n",
        "        X = F.max_pool2d(X,2,2)\n",
        "        \n",
        "        X = X.view(-1,23*23*16)\n",
        "        X = F.relu(self.fc1(X))\n",
        "        X = F.dropout(X, 0.2)\n",
        "        X = F.relu(self.fc2(X))\n",
        "        X = self.fc3(X)\n",
        "        return F.log_softmax(X,dim=1)\n"
      ],
      "execution_count": 13,
      "outputs": []
    },
    {
      "cell_type": "code",
      "metadata": {
        "id": "-VJlFC0AFaF0",
        "colab_type": "code",
        "colab": {}
      },
      "source": [
        "CNNmodel = CNN()\n",
        "criterion = nn.CrossEntropyLoss()\n",
        "optimizer = torch.optim.Adam(CNNmodel.parameters(),lr=0.0001)"
      ],
      "execution_count": 14,
      "outputs": []
    },
    {
      "cell_type": "code",
      "metadata": {
        "id": "h0BKNUvJFb0s",
        "colab_type": "code",
        "colab": {}
      },
      "source": [
        "model = CNNmodel.cuda()"
      ],
      "execution_count": 15,
      "outputs": []
    },
    {
      "cell_type": "code",
      "metadata": {
        "id": "G4iIXYDIF1aP",
        "colab_type": "code",
        "colab": {
          "base_uri": "https://localhost:8080/",
          "height": 357
        },
        "outputId": "f7cc56ec-5720-47e5-f275-9c24e578eda5"
      },
      "source": [
        "num_epochs = 20\n",
        "\n",
        "train_loss = []\n",
        "test_loss = []\n",
        "train_accuracy = []\n",
        "test_accuracy = []\n",
        "\n",
        "for epoch in range(num_epochs):\n",
        "    #Training\n",
        "    correct = 0\n",
        "    iterations = 0\n",
        "    iter_loss = 0.0\n",
        "    \n",
        "    model.train()\n",
        "    \n",
        "    for i, (inputs,labels) in enumerate(trainloader):\n",
        "        if CUDA:\n",
        "            inputs = inputs.cuda()\n",
        "            labels = labels.cuda()\n",
        "            \n",
        "        outputs = model(inputs)\n",
        "        loss = criterion(outputs,labels)\n",
        "        iter_loss += loss.item()\n",
        "        optimizer.zero_grad()\n",
        "        loss.backward()\n",
        "        optimizer.step()\n",
        "        \n",
        "        _,predicted = torch.max(outputs,1)\n",
        "        correct += (predicted == labels).sum()\n",
        "        iterations += 1\n",
        "        \n",
        "    train_loss.append(iter_loss/iterations)\n",
        "    train_accuracy.append((100*correct // len(train_dataset)))\n",
        "    \n",
        "    #Testing\n",
        "    testing_loss = 0.0\n",
        "    correct = 0\n",
        "    iterations = 0\n",
        "    \n",
        "    model.eval()\n",
        "    \n",
        "    for i, (inputs,labels) in enumerate(testloader):\n",
        "        if CUDA:\n",
        "            inputs = inputs.cuda()\n",
        "            labels = labels.cuda()\n",
        "            \n",
        "        outputs = model(inputs)\n",
        "        loss = criterion(outputs,labels)\n",
        "        testing_loss += loss.item()\n",
        "        \n",
        "        _,predicted = torch.max(outputs,1)\n",
        "        correct += (predicted == labels).sum()\n",
        "        iterations += 1\n",
        "    \n",
        "    # Record the Testing loss\n",
        "    test_loss.append(testing_loss/iterations)\n",
        "    # Record the Testing accuracy\n",
        "    test_accuracy.append((100 * correct // len(test_dataset)))\n",
        "    \n",
        "    print ('Epoch {}/{}, Training Loss: {:.3f}, Training Accuracy: {:.3f}, Testing Loss: {:.3f}, Testing Acc: {:.3f}'\n",
        "           .format(epoch+1, num_epochs, train_loss[-1], train_accuracy[-1], \n",
        "             test_loss[-1], test_accuracy[-1]))"
      ],
      "execution_count": 16,
      "outputs": [
        {
          "output_type": "stream",
          "text": [
            "Epoch 1/20, Training Loss: 2.318, Training Accuracy: 40.000, Testing Loss: 1.508, Testing Acc: 60.000\n",
            "Epoch 2/20, Training Loss: 0.757, Training Accuracy: 77.000, Testing Loss: 0.895, Testing Acc: 75.000\n",
            "Epoch 3/20, Training Loss: 0.381, Training Accuracy: 88.000, Testing Loss: 0.662, Testing Acc: 82.000\n",
            "Epoch 4/20, Training Loss: 0.233, Training Accuracy: 92.000, Testing Loss: 0.518, Testing Acc: 86.000\n",
            "Epoch 5/20, Training Loss: 0.166, Training Accuracy: 94.000, Testing Loss: 0.492, Testing Acc: 87.000\n",
            "Epoch 6/20, Training Loss: 0.121, Training Accuracy: 96.000, Testing Loss: 0.457, Testing Acc: 88.000\n",
            "Epoch 7/20, Training Loss: 0.095, Training Accuracy: 96.000, Testing Loss: 0.417, Testing Acc: 90.000\n",
            "Epoch 8/20, Training Loss: 0.079, Training Accuracy: 97.000, Testing Loss: 0.389, Testing Acc: 90.000\n",
            "Epoch 9/20, Training Loss: 0.066, Training Accuracy: 97.000, Testing Loss: 0.413, Testing Acc: 91.000\n",
            "Epoch 10/20, Training Loss: 0.059, Training Accuracy: 98.000, Testing Loss: 0.415, Testing Acc: 91.000\n",
            "Epoch 11/20, Training Loss: 0.051, Training Accuracy: 98.000, Testing Loss: 0.388, Testing Acc: 92.000\n",
            "Epoch 12/20, Training Loss: 0.048, Training Accuracy: 98.000, Testing Loss: 0.374, Testing Acc: 93.000\n",
            "Epoch 13/20, Training Loss: 0.038, Training Accuracy: 98.000, Testing Loss: 0.371, Testing Acc: 92.000\n",
            "Epoch 14/20, Training Loss: 0.037, Training Accuracy: 98.000, Testing Loss: 0.347, Testing Acc: 93.000\n",
            "Epoch 15/20, Training Loss: 0.037, Training Accuracy: 98.000, Testing Loss: 0.359, Testing Acc: 93.000\n",
            "Epoch 16/20, Training Loss: 0.032, Training Accuracy: 98.000, Testing Loss: 0.393, Testing Acc: 93.000\n",
            "Epoch 17/20, Training Loss: 0.030, Training Accuracy: 98.000, Testing Loss: 0.347, Testing Acc: 94.000\n",
            "Epoch 18/20, Training Loss: 0.026, Training Accuracy: 99.000, Testing Loss: 0.356, Testing Acc: 94.000\n",
            "Epoch 19/20, Training Loss: 0.026, Training Accuracy: 99.000, Testing Loss: 0.418, Testing Acc: 93.000\n",
            "Epoch 20/20, Training Loss: 0.023, Training Accuracy: 99.000, Testing Loss: 0.366, Testing Acc: 94.000\n"
          ],
          "name": "stdout"
        }
      ]
    },
    {
      "cell_type": "code",
      "metadata": {
        "id": "U1hByzeNIII1",
        "colab_type": "code",
        "colab": {}
      },
      "source": [
        "plt.plot(train_loss, label='train loss')\n",
        "plt.plot(test_loss, label='test loss')\n",
        "plt.legend()\n",
        "plt.show()"
      ],
      "execution_count": null,
      "outputs": []
    },
    {
      "cell_type": "code",
      "metadata": {
        "id": "7oXMgomJH6Vn",
        "colab_type": "code",
        "colab": {}
      },
      "source": [
        "torch.save(model,'fruitygooglecolab_runman2.pt')"
      ],
      "execution_count": 25,
      "outputs": []
    },
    {
      "cell_type": "code",
      "metadata": {
        "id": "4k_XCPmwIBCd",
        "colab_type": "code",
        "colab": {}
      },
      "source": [
        ""
      ],
      "execution_count": null,
      "outputs": []
    },
    {
      "cell_type": "code",
      "metadata": {
        "id": "_yTaLipLIBnl",
        "colab_type": "code",
        "colab": {
          "base_uri": "https://localhost:8080/",
          "height": 34
        },
        "outputId": "c30244d5-1235-41d7-9ad8-83bec4379270"
      },
      "source": [
        "test_load_all = DataLoader(test_dataset, batch_size=22668, shuffle=False)\n",
        "with torch.no_grad():\n",
        "    correct = 0\n",
        "    for X_test, y_test in test_load_all:\n",
        "        \n",
        "        if CUDA:\n",
        "            X_test = X_test.cuda()\n",
        "            y_test = y_test.cuda()\n",
        "        \n",
        "        y_val = model(X_test)  # we don't flatten the data this time\n",
        "        predicted = torch.max(y_val,1)[1]\n",
        "        correct += (predicted == y_test).sum()\n",
        "print(f'Test accuracy: {correct.item()}/{len(test_dataset)} = {correct.item()*100/(len(test_dataset)):7.3f}%')"
      ],
      "execution_count": 20,
      "outputs": [
        {
          "output_type": "stream",
          "text": [
            "Test accuracy: 21324/22688 =  93.988%\n"
          ],
          "name": "stdout"
        }
      ]
    },
    {
      "cell_type": "code",
      "metadata": {
        "id": "NHfZ04Lcfik5",
        "colab_type": "code",
        "colab": {}
      },
      "source": [
        ""
      ],
      "execution_count": null,
      "outputs": []
    },
    {
      "cell_type": "code",
      "metadata": {
        "id": "ebzop0qmhNoy",
        "colab_type": "code",
        "colab": {}
      },
      "source": [
        "params = OrderedDict(\n",
        "    lr = [0.001,0.0001],\n",
        "    batch_size = [64,128]\n",
        ")\n",
        "\n",
        "epochs=5\n",
        "runs = RunBuilder.get_runs(params)"
      ],
      "execution_count": 23,
      "outputs": []
    },
    {
      "cell_type": "code",
      "metadata": {
        "id": "nd7Uhjx_hO0c",
        "colab_type": "code",
        "colab": {}
      },
      "source": [
        "class RunBuilder():\n",
        "  @staticmethod\n",
        "  def get_runs(params):\n",
        "\n",
        "    Run = namedtuple('Run', params.keys())\n",
        "\n",
        "    runs = []\n",
        "    for v in product(*params.values()):\n",
        "      runs.append(Run(*v))\n",
        "    \n",
        "    return runs\n",
        "\n",
        "class RunManager():\n",
        "  def __init__(self):\n",
        "\n",
        "    # tracking every epoch count, loss, accuracy, time\n",
        "    self.epoch_count = 0\n",
        "    self.epoch_loss = 0\n",
        "    self.epoch_num_correct = 0\n",
        "    self.epoch_start_time = None\n",
        "\n",
        "    # tracking every run count, run data, hyper-params used, time\n",
        "    self.run_params = None\n",
        "    self.run_count = 0\n",
        "    self.run_data = []\n",
        "    self.run_start_time = None\n",
        "\n",
        "    # record model, loader and TensorBoard \n",
        "    self.network = None\n",
        "    self.loader = None\n",
        "    self.tb = None\n",
        "\n",
        "  # record the count, hyper-param, model, loader of each run\n",
        "  # record sample images and network graph to TensorBoard  \n",
        "  def begin_run(self, run, network, loader):\n",
        "\n",
        "    self.run_start_time = time.time()\n",
        "\n",
        "    self.run_params = run\n",
        "    self.run_count += 1\n",
        "\n",
        "    self.network = network\n",
        "    self.loader = loader\n",
        "    self.tb = SummaryWriter(comment=f'-{run}')\n",
        "\n",
        "    images, labels = next(iter(self.loader))\n",
        "    grid = torchvision.utils.make_grid(images)\n",
        "\n",
        "    self.tb.add_image('images', grid)\n",
        "    self.tb.add_graph(self.network, images.cuda())\n",
        "\n",
        "  # when run ends, close TensorBoard, zero epoch count\n",
        "  def end_run(self):\n",
        "    self.tb.close()\n",
        "    self.epoch_count = 0\n",
        "\n",
        "  # zero epoch count, loss, accuracy, \n",
        "  def begin_epoch(self):\n",
        "    self.epoch_start_time = time.time()\n",
        "\n",
        "    self.epoch_count += 1\n",
        "    self.epoch_loss = 0\n",
        "    self.epoch_num_correct = 0\n",
        "\n",
        "  # \n",
        "  def end_epoch(self):\n",
        "    # calculate epoch duration and run duration(accumulate)\n",
        "    epoch_duration = time.time() - self.epoch_start_time\n",
        "    run_duration = time.time() - self.run_start_time\n",
        "\n",
        "    # record epoch loss and accuracy\n",
        "    loss = self.epoch_loss / len(self.loader.dataset)\n",
        "    accuracy = self.epoch_num_correct / len(self.loader.dataset)\n",
        "\n",
        "    # Record epoch loss and accuracy to TensorBoard \n",
        "    self.tb.add_scalar('Loss', loss, self.epoch_count)\n",
        "    self.tb.add_scalar('Accuracy', accuracy, self.epoch_count)\n",
        "\n",
        "    # Record params to TensorBoard\n",
        "    for name, param in self.network.named_parameters():\n",
        "      self.tb.add_histogram(name, param, self.epoch_count)\n",
        "      self.tb.add_histogram(f'{name}.grad', param.grad, self.epoch_count)\n",
        "    \n",
        "    # Write into 'results' (OrderedDict) for all run related data\n",
        "    results = OrderedDict()\n",
        "    results[\"run\"] = self.run_count\n",
        "    results[\"epoch\"] = self.epoch_count\n",
        "    results[\"loss\"] = loss\n",
        "    results[\"accuracy\"] = accuracy\n",
        "    results[\"epoch duration\"] = epoch_duration\n",
        "    results[\"run duration\"] = run_duration\n",
        "\n",
        "    # Record hyper-params into 'results'\n",
        "    for k,v in self.run_params._asdict().items(): results[k] = v\n",
        "    self.run_data.append(results)\n",
        "    df = pd.DataFrame.from_dict(self.run_data, orient = 'columns')\n",
        "\n",
        "    # display epoch information and show progress\n",
        "    clear_output(wait=True)\n",
        "    display(df)\n",
        "\n",
        "  # accumulate loss of batch into entire epoch loss\n",
        "  def track_loss(self, loss):\n",
        "    # multiply batch size so variety of batch sizes can be compared\n",
        "    self.epoch_loss += loss.item() * self.loader.batch_size\n",
        "\n",
        "  # accumulate number of corrects of batch into entire epoch num_correct\n",
        "  def track_num_correct(self, preds, labels):\n",
        "    self.epoch_num_correct += self._get_num_correct(preds, labels)\n",
        "\n",
        "  @torch.no_grad()\n",
        "  def _get_num_correct(self, preds, labels):\n",
        "    return preds.argmax(dim=1).eq(labels).sum().item()\n",
        "  \n",
        "  # save end results of all runs into csv, json for further analysis\n",
        "  def save(self, fileName):\n",
        "\n",
        "    pd.DataFrame.from_dict(\n",
        "        self.run_data, \n",
        "        orient = 'columns',\n",
        "    ).to_csv(f'{fileName}.csv')\n",
        "\n",
        "    with open(f'{fileName}.json', 'w', encoding='utf-8') as f:\n",
        "      json.dump(self.run_data, f, ensure_ascii=False, indent=4)"
      ],
      "execution_count": 22,
      "outputs": []
    },
    {
      "cell_type": "code",
      "metadata": {
        "id": "Z1frKCCdioDf",
        "colab_type": "code",
        "colab": {
          "base_uri": "https://localhost:8080/",
          "height": 669
        },
        "outputId": "e8bbba7a-dd5a-4a03-c3d9-8802535a0e99"
      },
      "source": [
        "m = RunManager()\n",
        "\n",
        "# get all runs from params using RunBuilder class\n",
        "for run in RunBuilder.get_runs(params):\n",
        "\n",
        "    # if params changes, following line of code should reflect the changes too\n",
        "    network = CNN().cuda()\n",
        "    loader = torch.utils.data.DataLoader(train_dataset, batch_size = run.batch_size)\n",
        "    optimizer = torch.optim.Adam(network.parameters(), lr=run.lr)\n",
        "\n",
        "    m.begin_run(run, network, loader)\n",
        "    for epoch in range(epochs):\n",
        "      \n",
        "      m.begin_epoch()\n",
        "      for batch in loader:\n",
        "        \n",
        "        images = batch[0].cuda()\n",
        "        labels = batch[1].cuda()\n",
        "        preds = network(images)\n",
        "        loss = F.cross_entropy(preds, labels)\n",
        "\n",
        "        optimizer.zero_grad()\n",
        "        loss.backward()\n",
        "        optimizer.step()\n",
        "\n",
        "        m.track_loss(loss)\n",
        "        m.track_num_correct(preds, labels)\n",
        "\n",
        "      m.end_epoch()\n",
        "    m.end_run()\n",
        "\n",
        "# when all runs are done, save results to files\n",
        "m.save('results2')"
      ],
      "execution_count": 24,
      "outputs": [
        {
          "output_type": "display_data",
          "data": {
            "text/html": [
              "<div>\n",
              "<style scoped>\n",
              "    .dataframe tbody tr th:only-of-type {\n",
              "        vertical-align: middle;\n",
              "    }\n",
              "\n",
              "    .dataframe tbody tr th {\n",
              "        vertical-align: top;\n",
              "    }\n",
              "\n",
              "    .dataframe thead th {\n",
              "        text-align: right;\n",
              "    }\n",
              "</style>\n",
              "<table border=\"1\" class=\"dataframe\">\n",
              "  <thead>\n",
              "    <tr style=\"text-align: right;\">\n",
              "      <th></th>\n",
              "      <th>run</th>\n",
              "      <th>epoch</th>\n",
              "      <th>loss</th>\n",
              "      <th>accuracy</th>\n",
              "      <th>epoch duration</th>\n",
              "      <th>run duration</th>\n",
              "      <th>lr</th>\n",
              "      <th>batch_size</th>\n",
              "    </tr>\n",
              "  </thead>\n",
              "  <tbody>\n",
              "    <tr>\n",
              "      <th>0</th>\n",
              "      <td>1</td>\n",
              "      <td>1</td>\n",
              "      <td>5.117112</td>\n",
              "      <td>0.008819</td>\n",
              "      <td>69.177157</td>\n",
              "      <td>75.602859</td>\n",
              "      <td>0.0010</td>\n",
              "      <td>64</td>\n",
              "    </tr>\n",
              "    <tr>\n",
              "      <th>1</th>\n",
              "      <td>1</td>\n",
              "      <td>2</td>\n",
              "      <td>3.797721</td>\n",
              "      <td>0.021672</td>\n",
              "      <td>68.896940</td>\n",
              "      <td>145.692870</td>\n",
              "      <td>0.0010</td>\n",
              "      <td>64</td>\n",
              "    </tr>\n",
              "    <tr>\n",
              "      <th>2</th>\n",
              "      <td>1</td>\n",
              "      <td>3</td>\n",
              "      <td>3.487457</td>\n",
              "      <td>0.048041</td>\n",
              "      <td>69.199756</td>\n",
              "      <td>216.055745</td>\n",
              "      <td>0.0010</td>\n",
              "      <td>64</td>\n",
              "    </tr>\n",
              "    <tr>\n",
              "      <th>3</th>\n",
              "      <td>1</td>\n",
              "      <td>4</td>\n",
              "      <td>3.022236</td>\n",
              "      <td>0.054379</td>\n",
              "      <td>69.360650</td>\n",
              "      <td>286.571632</td>\n",
              "      <td>0.0010</td>\n",
              "      <td>64</td>\n",
              "    </tr>\n",
              "    <tr>\n",
              "      <th>4</th>\n",
              "      <td>1</td>\n",
              "      <td>5</td>\n",
              "      <td>2.656016</td>\n",
              "      <td>0.075164</td>\n",
              "      <td>69.283304</td>\n",
              "      <td>357.018756</td>\n",
              "      <td>0.0010</td>\n",
              "      <td>64</td>\n",
              "    </tr>\n",
              "    <tr>\n",
              "      <th>5</th>\n",
              "      <td>2</td>\n",
              "      <td>1</td>\n",
              "      <td>5.019539</td>\n",
              "      <td>0.005968</td>\n",
              "      <td>66.955464</td>\n",
              "      <td>68.149020</td>\n",
              "      <td>0.0010</td>\n",
              "      <td>128</td>\n",
              "    </tr>\n",
              "    <tr>\n",
              "      <th>6</th>\n",
              "      <td>2</td>\n",
              "      <td>2</td>\n",
              "      <td>4.259303</td>\n",
              "      <td>0.018924</td>\n",
              "      <td>67.004728</td>\n",
              "      <td>136.323403</td>\n",
              "      <td>0.0010</td>\n",
              "      <td>128</td>\n",
              "    </tr>\n",
              "    <tr>\n",
              "      <th>7</th>\n",
              "      <td>2</td>\n",
              "      <td>3</td>\n",
              "      <td>3.835937</td>\n",
              "      <td>0.010828</td>\n",
              "      <td>67.068924</td>\n",
              "      <td>204.540289</td>\n",
              "      <td>0.0010</td>\n",
              "      <td>128</td>\n",
              "    </tr>\n",
              "    <tr>\n",
              "      <th>8</th>\n",
              "      <td>2</td>\n",
              "      <td>4</td>\n",
              "      <td>4.148270</td>\n",
              "      <td>0.014802</td>\n",
              "      <td>67.125480</td>\n",
              "      <td>272.835614</td>\n",
              "      <td>0.0010</td>\n",
              "      <td>128</td>\n",
              "    </tr>\n",
              "    <tr>\n",
              "      <th>9</th>\n",
              "      <td>2</td>\n",
              "      <td>5</td>\n",
              "      <td>3.785574</td>\n",
              "      <td>0.002851</td>\n",
              "      <td>67.097154</td>\n",
              "      <td>341.081300</td>\n",
              "      <td>0.0010</td>\n",
              "      <td>128</td>\n",
              "    </tr>\n",
              "    <tr>\n",
              "      <th>10</th>\n",
              "      <td>3</td>\n",
              "      <td>1</td>\n",
              "      <td>4.912977</td>\n",
              "      <td>0.006825</td>\n",
              "      <td>69.119088</td>\n",
              "      <td>69.737226</td>\n",
              "      <td>0.0001</td>\n",
              "      <td>64</td>\n",
              "    </tr>\n",
              "    <tr>\n",
              "      <th>11</th>\n",
              "      <td>3</td>\n",
              "      <td>2</td>\n",
              "      <td>4.174159</td>\n",
              "      <td>0.011493</td>\n",
              "      <td>69.031732</td>\n",
              "      <td>139.997206</td>\n",
              "      <td>0.0001</td>\n",
              "      <td>64</td>\n",
              "    </tr>\n",
              "    <tr>\n",
              "      <th>12</th>\n",
              "      <td>3</td>\n",
              "      <td>3</td>\n",
              "      <td>3.061329</td>\n",
              "      <td>0.026650</td>\n",
              "      <td>68.887102</td>\n",
              "      <td>210.144675</td>\n",
              "      <td>0.0001</td>\n",
              "      <td>64</td>\n",
              "    </tr>\n",
              "    <tr>\n",
              "      <th>13</th>\n",
              "      <td>3</td>\n",
              "      <td>4</td>\n",
              "      <td>2.637913</td>\n",
              "      <td>0.062681</td>\n",
              "      <td>68.639983</td>\n",
              "      <td>280.016828</td>\n",
              "      <td>0.0001</td>\n",
              "      <td>64</td>\n",
              "    </tr>\n",
              "    <tr>\n",
              "      <th>14</th>\n",
              "      <td>3</td>\n",
              "      <td>5</td>\n",
              "      <td>2.541778</td>\n",
              "      <td>0.060273</td>\n",
              "      <td>68.736126</td>\n",
              "      <td>350.000363</td>\n",
              "      <td>0.0001</td>\n",
              "      <td>64</td>\n",
              "    </tr>\n",
              "    <tr>\n",
              "      <th>15</th>\n",
              "      <td>4</td>\n",
              "      <td>1</td>\n",
              "      <td>4.943120</td>\n",
              "      <td>0.005377</td>\n",
              "      <td>66.757308</td>\n",
              "      <td>67.934549</td>\n",
              "      <td>0.0001</td>\n",
              "      <td>128</td>\n",
              "    </tr>\n",
              "    <tr>\n",
              "      <th>16</th>\n",
              "      <td>4</td>\n",
              "      <td>2</td>\n",
              "      <td>4.819271</td>\n",
              "      <td>0.000458</td>\n",
              "      <td>66.979407</td>\n",
              "      <td>136.082259</td>\n",
              "      <td>0.0001</td>\n",
              "      <td>128</td>\n",
              "    </tr>\n",
              "    <tr>\n",
              "      <th>17</th>\n",
              "      <td>4</td>\n",
              "      <td>3</td>\n",
              "      <td>4.331961</td>\n",
              "      <td>0.000207</td>\n",
              "      <td>66.924273</td>\n",
              "      <td>204.173435</td>\n",
              "      <td>0.0001</td>\n",
              "      <td>128</td>\n",
              "    </tr>\n",
              "    <tr>\n",
              "      <th>18</th>\n",
              "      <td>4</td>\n",
              "      <td>4</td>\n",
              "      <td>3.716882</td>\n",
              "      <td>0.006914</td>\n",
              "      <td>66.959146</td>\n",
              "      <td>272.328049</td>\n",
              "      <td>0.0001</td>\n",
              "      <td>128</td>\n",
              "    </tr>\n",
              "    <tr>\n",
              "      <th>19</th>\n",
              "      <td>4</td>\n",
              "      <td>5</td>\n",
              "      <td>3.155109</td>\n",
              "      <td>0.031717</td>\n",
              "      <td>66.872822</td>\n",
              "      <td>340.390851</td>\n",
              "      <td>0.0001</td>\n",
              "      <td>128</td>\n",
              "    </tr>\n",
              "  </tbody>\n",
              "</table>\n",
              "</div>"
            ],
            "text/plain": [
              "    run  epoch      loss  ...  run duration      lr  batch_size\n",
              "0     1      1  5.117112  ...     75.602859  0.0010          64\n",
              "1     1      2  3.797721  ...    145.692870  0.0010          64\n",
              "2     1      3  3.487457  ...    216.055745  0.0010          64\n",
              "3     1      4  3.022236  ...    286.571632  0.0010          64\n",
              "4     1      5  2.656016  ...    357.018756  0.0010          64\n",
              "5     2      1  5.019539  ...     68.149020  0.0010         128\n",
              "6     2      2  4.259303  ...    136.323403  0.0010         128\n",
              "7     2      3  3.835937  ...    204.540289  0.0010         128\n",
              "8     2      4  4.148270  ...    272.835614  0.0010         128\n",
              "9     2      5  3.785574  ...    341.081300  0.0010         128\n",
              "10    3      1  4.912977  ...     69.737226  0.0001          64\n",
              "11    3      2  4.174159  ...    139.997206  0.0001          64\n",
              "12    3      3  3.061329  ...    210.144675  0.0001          64\n",
              "13    3      4  2.637913  ...    280.016828  0.0001          64\n",
              "14    3      5  2.541778  ...    350.000363  0.0001          64\n",
              "15    4      1  4.943120  ...     67.934549  0.0001         128\n",
              "16    4      2  4.819271  ...    136.082259  0.0001         128\n",
              "17    4      3  4.331961  ...    204.173435  0.0001         128\n",
              "18    4      4  3.716882  ...    272.328049  0.0001         128\n",
              "19    4      5  3.155109  ...    340.390851  0.0001         128\n",
              "\n",
              "[20 rows x 8 columns]"
            ]
          },
          "metadata": {
            "tags": []
          }
        }
      ]
    },
    {
      "cell_type": "code",
      "metadata": {
        "id": "A0G596ABEJyN",
        "colab_type": "code",
        "colab": {}
      },
      "source": [
        ""
      ],
      "execution_count": null,
      "outputs": []
    },
    {
      "cell_type": "code",
      "metadata": {
        "id": "6aOAyajf4f1i",
        "colab_type": "code",
        "colab": {}
      },
      "source": [
        ""
      ],
      "execution_count": null,
      "outputs": []
    },
    {
      "cell_type": "code",
      "metadata": {
        "id": "93VcHzVVA5RG",
        "colab_type": "code",
        "colab": {}
      },
      "source": [
        ""
      ],
      "execution_count": null,
      "outputs": []
    },
    {
      "cell_type": "code",
      "metadata": {
        "id": "GnWt-lOSDdhv",
        "colab_type": "code",
        "colab": {}
      },
      "source": [
        ""
      ],
      "execution_count": null,
      "outputs": []
    }
  ]
}